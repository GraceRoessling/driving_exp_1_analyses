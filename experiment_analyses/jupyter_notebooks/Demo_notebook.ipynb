{
 "cells": [
  {
   "cell_type": "code",
   "execution_count": 1,
   "id": "017f4357",
   "metadata": {},
   "outputs": [],
   "source": [
    "import os\n",
    "directory_of_python_code = r\"C:\\Users\\graci\\Dropbox\\PAndA\\Thesis Experiment 1\\scripts\\experiment_analyses\"  # Replace with your desired directory\n",
    "os.chdir(directory_of_python_code)\n",
    "\n",
    "import execute_pipeline\n",
    "\n",
    "# import pandas as pd\n",
    "# import numpy as np\n",
    "# import os\n",
    "# import subject\n",
    "# import trial\n",
    "# import piece\n",
    "# from IPython import embed\n",
    "# import dataframe_helper_functions\n",
    "# import preprocess\n",
    "# import statistics\n",
    "# import matplotlib.pyplot as plt\n",
    "# import lane_deviation\n",
    "# import track_piece_correction\n",
    "# import map"
   ]
  },
  {
   "cell_type": "code",
   "execution_count": null,
   "id": "01fc38fb",
   "metadata": {},
   "outputs": [],
   "source": [
    "# Get dictionaries of objects for both groups\n",
    "subject_dict = preprocess.subject_dict"
   ]
  },
  {
   "cell_type": "code",
   "execution_count": null,
   "id": "4d50de1c",
   "metadata": {},
   "outputs": [],
   "source": [
    "# Get dictionary of road center position for lane deviation analysis\n",
    "master_dict,non_interp_dict = lane_deviation.generate_track_piece_dict(subject_dict)\n",
    "\n",
    "# Conduct translation/rotation correction across all ten maps\n",
    "track_piece_correction.correct_position_for_entire_dataset(subject_dict,master_dict)"
   ]
  },
  {
   "cell_type": "code",
   "execution_count": null,
   "id": "299fcf78",
   "metadata": {},
   "outputs": [],
   "source": [
    "# Visualize each map\n",
    "subject = subject_dict[\"chess\"] # choose subject from unfamiliar group to get all ten maps\n",
    "\n",
    "for i in range(0,10):\n",
    "    trial_number = i\n",
    "    map_number = subject.trials[trial_number].map.map_number\n",
    "    print(f'MAP NUMBER: {map_number} -------------------------------')\n",
    "    \n",
    "    # Get track center and subject's trajectory for given map\n",
    "    track_list = map.Map.ordinal_map_pieces_dict[map_number]\n",
    "    \n",
    "    # plot the entire map with newly corrected road pieces\n",
    "    fig1, ax1 = plt.subplots()\n",
    "\n",
    "    for idx, track_piece in enumerate(track_list):\n",
    "        center_x, center_z, traj_x,traj_z = lane_deviation.get_track_piece_of_interest(subject,trial_number,master_dict,track_list[idx])\n",
    "\n",
    "        # plot lines for reference\n",
    "        ax1.plot(center_x, center_z, c = \"red\") # center from dictionary\n",
    "        ax1.plot(traj_x, traj_z, c = \"green\") # human trajectory\n",
    "\n",
    "    plt.show()\n",
    "    \n",
    "    \n"
   ]
  },
  {
   "cell_type": "code",
   "execution_count": null,
   "id": "cb1b0a23",
   "metadata": {},
   "outputs": [],
   "source": []
  }
 ],
 "metadata": {
  "kernelspec": {
   "display_name": "Experiment",
   "language": "python",
   "name": "python3"
  },
  "language_info": {
   "codemirror_mode": {
    "name": "ipython",
    "version": 3
   },
   "file_extension": ".py",
   "mimetype": "text/x-python",
   "name": "python",
   "nbconvert_exporter": "python",
   "pygments_lexer": "ipython3",
   "version": "3.9.5"
  }
 },
 "nbformat": 4,
 "nbformat_minor": 5
}
