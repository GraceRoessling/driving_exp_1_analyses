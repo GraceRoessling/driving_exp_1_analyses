{
 "cells": [
  {
   "cell_type": "code",
   "execution_count": null,
   "id": "ea2354ad",
   "metadata": {},
   "outputs": [],
   "source": [
    "import pandas as pd\n",
    "import numpy as np\n",
    "import os\n",
    "import subject\n",
    "import trial\n",
    "import piece\n",
    "from IPython import embed\n",
    "import dataframe_helper_functions\n",
    "import preprocess\n",
    "import statistics\n",
    "import matplotlib.pyplot as plt\n",
    "import lane_deviation\n",
    "import track_piece_correction\n",
    "import map"
   ]
  },
  {
   "cell_type": "code",
   "execution_count": null,
   "id": "9000e4b0",
   "metadata": {},
   "outputs": [],
   "source": [
    "# Get dictionaries of objects for both groups\n",
    "\n",
    "subject_dict = preprocess.subject_dict\n",
    "del subject_dict[\"wad\"]"
   ]
  },
  {
   "cell_type": "code",
   "execution_count": null,
   "id": "c909f76a",
   "metadata": {},
   "outputs": [],
   "source": [
    "# Get dictionary of road center position for lane deviation analysis\n",
    "\n",
    "master_dict,non_interp_dict = lane_deviation.generate_track_piece_dict(subject_dict)"
   ]
  },
  {
   "cell_type": "code",
   "execution_count": null,
   "id": "7d6ed0c3",
   "metadata": {},
   "outputs": [],
   "source": [
    "# Parameters -----------------------------------\n",
    "subject = subject_dict[\"chess\"]\n",
    "trial_num = 0\n",
    "\n",
    "# get map for given trial\n",
    "map_num = subject.trials[trial_num].map.map_number\n",
    "print(map_num)\n",
    "\n",
    "# Get track center and subject's trajectory for given map\n",
    "track_list = map.Map.ordinal_map_pieces_dict[map_num]\n",
    "track_piece_idx = 4\n",
    "\n",
    "# random point along road for lane deviation analysis\n",
    "idx = 85\n",
    "\n",
    "#  Get trajectory and center lines --------------------------------\n",
    "center_x, center_z, traj_x,traj_z = lane_deviation.get_track_piece_of_interest(subject,trial_num,master_dict,track_list[track_piece_idx])            \n",
    "trajectory = lane_deviation.combine_lists(traj_x, traj_z)\n",
    "centerline = lane_deviation.combine_lists(center_x,center_z)\n",
    "\n",
    "# trim and get lane deviation distance -----------------------------\n",
    "# trajectory = track_piece_correction.trim_trajectory_line(trajectory,centerline)\n",
    "# min_distance, closest_point = lane_deviation.distance_to_centerline(trajectory[idx], centerline) # get lane deviation\n",
    "# traj_x, traj_z = lane_deviation.separate_xy_values(trajectory)\n",
    "\n",
    "\n",
    "\n",
    "#plot\n",
    "fig1, ax1 = plt.subplots()\n",
    "\n",
    "# plot lines for reference\n",
    "ax1.plot(center_x, center_z, c=\"red\") # center from dictionary\n",
    "ax1.plot(traj_x, traj_z, c=\"green\") # human trajectory\n",
    "\n",
    "# plot points for reference\n",
    "# ax1.plot(trimmed_trajectory[idx][0], trimmed_trajectory[idx][1], 'o', markersize=5, c=\"purple\")\n",
    "# ax1.plot(closest_point[0], closest_point[1], 'o', markersize = 5, c = \"green\")\n",
    "plt.show()"
   ]
  },
  {
   "cell_type": "code",
   "execution_count": null,
   "id": "e284bd50",
   "metadata": {},
   "outputs": [],
   "source": [
    "hand_center_df = pd.read_csv(r\"C:\\Users\\graci\\Dropbox\\PAndA\\Thesis Experiment 1\\scripts\\map_1_center_of_road.csv\")\n",
    "\n",
    "hand_center_x = hand_center_df.X\n",
    "hand_center_z = hand_center_df.Z\n",
    "hand_center_track_name = hand_center_df.Road_Name\n",
    "\n",
    "track_list = list(set(hand_center_track_name))\n",
    "\n",
    "separate_track_piece_x = []\n",
    "separate_track_piece_z = []\n",
    "for track in track_list:\n",
    "    separate_track_piece_x.append(hand_center_df.loc[hand_center_df['Road_Name'] == track].X.tolist())\n",
    "    separate_track_piece_z.append(hand_center_df.loc[hand_center_df['Road_Name'] == track].Z.tolist())\n"
   ]
  },
  {
   "cell_type": "code",
   "execution_count": null,
   "id": "11899e14",
   "metadata": {},
   "outputs": [],
   "source": [
    "# Parameters -----------------------------------\n",
    "subject = subject_dict[\"chess\"]\n",
    "trial_num = 3\n",
    "\n",
    "# get map for given trial\n",
    "map_num = subject.trials[trial_num].map.map_number\n",
    "print(map_num)\n",
    "\n",
    "# get trajectory directly\n",
    "entire_traj = subject.trials[trial_num].trajectory_df\n",
    "\n",
    "# Get track center and subject's trajectory for given map\n",
    "track_list = map.Map.ordinal_map_pieces_dict[map_num]\n",
    "\n",
    "print(track_list)\n",
    "\n",
    "#  Get trajectory and center lines --------------------------------\n",
    "# iterate through every track piece and its trajectory\n",
    "\n",
    "#plot\n",
    "fig1, ax1 = plt.subplots()\n",
    "\n",
    "for idx, track_piece in enumerate(track_list):\n",
    "    center_x, center_z, traj_x,traj_z = lane_deviation.get_track_piece_of_interest(subject,trial_num,non_interp_dict,track_list[idx])\n",
    "\n",
    "    # plot lines for reference\n",
    "    ax1.plot(center_x, center_z, c = \"red\") # center from dictionary\n",
    "    ax1.plot(traj_x, traj_z, c = \"green\") # human trajectory\n",
    "    \n",
    "\n",
    "# ax1.plot(entire_traj.pos_x, entire_traj.pos_z, c = \"blue\") # human trajectory  \n",
    "plt.show()"
   ]
  },
  {
   "cell_type": "code",
   "execution_count": null,
   "id": "d9c502e6",
   "metadata": {},
   "outputs": [],
   "source": [
    "#plot\n",
    "\n",
    "fig, axes = plt.subplots(2, 4, figsize=(20, 10))\n",
    "axes_flat = axes.flatten()\n",
    "\n",
    "for idx, (track_piece,ax) in enumerate(zip(track_list,axes_flat)):\n",
    "    center_x, center_z, traj_x,traj_z = lane_deviation.get_track_piece_of_interest(subject,trial_num,non_interp_dict,track_list[idx])\n",
    "    # plot lines for reference\n",
    "    ax.set_title(f'{track_piece}')\n",
    "    ax.plot(center_x, center_z, c=\"red\") # center from dictionary\n",
    "    ax.plot(traj_x, traj_z, c=\"green\") # human trajectory\n",
    "\n",
    "plt.show()"
   ]
  },
  {
   "cell_type": "code",
   "execution_count": null,
   "id": "8d59833c",
   "metadata": {},
   "outputs": [],
   "source": []
  }
 ],
 "metadata": {
  "kernelspec": {
   "display_name": "Python 3 (ipykernel)",
   "language": "python",
   "name": "python3"
  },
  "language_info": {
   "codemirror_mode": {
    "name": "ipython",
    "version": 3
   },
   "file_extension": ".py",
   "mimetype": "text/x-python",
   "name": "python",
   "nbconvert_exporter": "python",
   "pygments_lexer": "ipython3",
   "version": "3.11.3"
  }
 },
 "nbformat": 4,
 "nbformat_minor": 5
}
